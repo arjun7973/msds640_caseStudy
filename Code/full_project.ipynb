{
 "cells": [
  {
   "cell_type": "markdown",
   "id": "2ba78fe0",
   "metadata": {},
   "source": [
    "# Part 1: Introduction & Dataset Overview"
   ]
  },
  {
   "cell_type": "code",
   "execution_count": null,
   "id": "0e98d93c",
   "metadata": {},
   "outputs": [],
   "source": [
    "\n",
    "import pandas as pd\n",
    "import numpy as np\n",
    "\n",
    "df = pd.read_csv(\"20191226-items.csv\")\n",
    "print(\"Shape:\", df.shape)\n",
    "print(\"Columns:\", df.columns.tolist())\n",
    "df.head()\n"
   ]
  },
  {
   "cell_type": "markdown",
   "id": "75478ab2",
   "metadata": {},
   "source": [
    "# Part 2: Data Cleaning & Preprocessing"
   ]
  },
  {
   "cell_type": "code",
   "execution_count": null,
   "id": "0184d45f",
   "metadata": {},
   "outputs": [],
   "source": [
    "\n",
    "df['brand'] = df['brand'].fillna(\"Unknown\")\n",
    "df['category'] = df['category'].fillna(\"Uncategorized\")\n",
    "df['price'] = pd.to_numeric(df['price'], errors='coerce')\n",
    "df['price'] = df['price'].fillna(df['price'].median())\n",
    "df = df.drop_duplicates()\n",
    "df.info()\n"
   ]
  },
  {
   "cell_type": "markdown",
   "id": "0640ed93",
   "metadata": {},
   "source": [
    "# Part 3: Exploratory Data Analysis"
   ]
  },
  {
   "cell_type": "code",
   "execution_count": null,
   "id": "8fbc6043",
   "metadata": {},
   "outputs": [],
   "source": [
    "\n",
    "print(df.describe())\n",
    "print(\"\\nTop categories:\\n\", df['category'].value_counts().head(10))\n",
    "print(\"\\nTop brands:\\n\", df['brand'].value_counts().head(10))\n"
   ]
  },
  {
   "cell_type": "markdown",
   "id": "f0d99872",
   "metadata": {},
   "source": [
    "# Part 4: Data Visualization"
   ]
  },
  {
   "cell_type": "code",
   "execution_count": null,
   "id": "4e2a4ca1",
   "metadata": {},
   "outputs": [],
   "source": [
    "\n",
    "import matplotlib.pyplot as plt\n",
    "import seaborn as sns\n",
    "\n",
    "plt.figure(figsize=(8,5))\n",
    "sns.histplot(df['price'], bins=50, kde=True)\n",
    "plt.title(\"Price Distribution\")\n",
    "plt.show()\n",
    "\n",
    "df['category'].value_counts().head(10).plot(kind='bar', figsize=(10,5))\n",
    "plt.title(\"Top 10 Categories\")\n",
    "plt.show()\n",
    "\n",
    "top_brands = df['brand'].value_counts().head(5).index\n",
    "sns.boxplot(data=df[df['brand'].isin(top_brands)], x=\"brand\", y=\"price\")\n",
    "plt.title(\"Price Distribution by Top Brands\")\n",
    "plt.show()\n"
   ]
  },
  {
   "cell_type": "markdown",
   "id": "629a5f75",
   "metadata": {},
   "source": [
    "# Part 5: Predictive Modeling"
   ]
  },
  {
   "cell_type": "code",
   "execution_count": null,
   "id": "40cc09ef",
   "metadata": {},
   "outputs": [],
   "source": [
    "\n",
    "from sklearn.model_selection import train_test_split\n",
    "from sklearn.linear_model import LinearRegression\n",
    "from sklearn.metrics import mean_squared_error\n",
    "from sklearn.preprocessing import LabelEncoder\n",
    "\n",
    "model_df = df[['price', 'category', 'brand']].copy()\n",
    "le_cat = LabelEncoder()\n",
    "le_brand = LabelEncoder()\n",
    "model_df['category_encoded'] = le_cat.fit_transform(model_df['category'])\n",
    "model_df['brand_encoded'] = le_brand.fit_transform(model_df['brand'])\n",
    "\n",
    "X = model_df[['category_encoded','brand_encoded']]\n",
    "y = model_df['price']\n",
    "\n",
    "X_train, X_test, y_train, y_test = train_test_split(X, y, test_size=0.2, random_state=42)\n",
    "\n",
    "model = LinearRegression()\n",
    "model.fit(X_train, y_train)\n",
    "y_pred = model.predict(X_test)\n",
    "print(\"MSE:\", mean_squared_error(y_test, y_pred))\n"
   ]
  },
  {
   "cell_type": "markdown",
   "id": "cd835ce3",
   "metadata": {},
   "source": [
    "# Part 6: Ethical Considerations"
   ]
  },
  {
   "cell_type": "markdown",
   "id": "0720f6e1",
   "metadata": {},
   "source": [
    "\n",
    "- Price prediction models risk reinforcing inequality  \n",
    "- Bias in brand representation may favor global brands  \n",
    "- Transparency in feature encoding and modeling is critical  \n",
    "- User data expansion requires privacy-preserving techniques  \n"
   ]
  },
  {
   "cell_type": "markdown",
   "id": "b6e32b6e",
   "metadata": {},
   "source": [
    "# Part 7: Social Justice Implications"
   ]
  },
  {
   "cell_type": "markdown",
   "id": "c83c6b17",
   "metadata": {},
   "source": [
    "\n",
    "- Skewed dataset towards certain brands/categories raises fairness concerns  \n",
    "- Local brands may be underrepresented  \n",
    "- Findings must be communicated responsibly  \n",
    "- Inclusive datasets ensure accessibility across populations  \n"
   ]
  },
  {
   "cell_type": "markdown",
   "id": "162dddc7",
   "metadata": {},
   "source": [
    "# Part 8: Conclusions & Recommendations"
   ]
  },
  {
   "cell_type": "markdown",
   "id": "926dfb45",
   "metadata": {},
   "source": [
    "\n",
    "**Key Findings**  \n",
    "- Cleaning resolved missing values  \n",
    "- EDA revealed skew in prices and brand imbalance  \n",
    "- Predictive models achieved moderate performance  \n",
    "- Ethical and social justice risks identified  \n",
    "\n",
    "**Recommendations**  \n",
    "- Perform fairness audits  \n",
    "- Apply differential privacy if user data is added  \n",
    "- Ensure transparency in model use  \n",
    "- Regularly update datasets with diverse sources  \n"
   ]
  }
 ],
 "metadata": {},
 "nbformat": 4,
 "nbformat_minor": 5
}
